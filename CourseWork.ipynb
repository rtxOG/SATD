{
 "cells": [
  {
   "cell_type": "markdown",
   "metadata": {},
   "source": [
    "# Курсовая работа по дисциплине СиАОД\n",
    "## Выполнил студент группы БСТ1902 Черняев С.А."
   ]
  },
  {
   "cell_type": "markdown",
   "metadata": {},
   "source": [
    "### Ход выполнения работы"
   ]
  },
  {
   "cell_type": "markdown",
   "metadata": {},
   "source": [
    "### Задача «Шарики и стрелы»"
   ]
  },
  {
   "cell_type": "markdown",
   "metadata": {},
   "source": [
    "Некоторые сферические шарики распределены по двухмерному пространству. Для каждого шарика даны xкоординаты начала и конца его горизонтального диаметра. Так как пространство двумерно, то yкоординаты не имеют значения в данной задаче. Координата xstart всегда меньше xend. Стрелу можно выстрелить строго вертикально (вдоль yоси) из разных точек xоси. Шарик с координатами xstart и xend уничтожается стрелой, если она была выпущена из такой позиции x, что xstart ⩽ x ⩽ xend. Когда стрела выпущена, она летит в пространстве бесконечное время (уничтожая все шарики на пути). Дан массив points, где points[i] = [xstart, xend]. Напишите функцию, возвращающую минимальное количество стрел, которые нужно выпустить, чтобы уничтожить все шарики."
   ]
  },
  {
   "cell_type": "code",
   "execution_count": 1,
   "metadata": {},
   "outputs": [],
   "source": [
    "import random\n",
    "\n",
    "def get_arr(size, left_bound, right_bound):\n",
    "        _arr = []\n",
    "        for i in range(size):\n",
    "            _arr.append(random.randint(left_bound, right_bound))\n",
    "\n",
    "        _arr.sort()\n",
    "        return _arr\n",
    "    \n",
    "def arr_sort(arr):\n",
    "        for i in range(len(arr) - 1):\n",
    "            minXstart = arr[i][0]\n",
    "            min_index = i\n",
    "            for j in range(i + 1, len(arr)):\n",
    "                if minXstart > arr[j][0]:\n",
    "                    min_index = j\n",
    "                    minXstart = arr[j][0]\n",
    "            temp = arr[i]\n",
    "            arr[i] = arr[min_index]\n",
    "            arr[min_index] = temp\n",
    "    \n",
    "def solve():\n",
    "        #points = [[1,2],[3,4],[5,6],[7,8]]\n",
    "        points = []\n",
    "        size = 8\n",
    "        for i in range(size):\n",
    "            points.append(get_arr(2, 0, 100))\n",
    "\n",
    "        arr_sort(points)\n",
    "        print(\"Массив:\\n\", points)\n",
    "        shots = 0\n",
    "        while len(points) > 0:\n",
    "            count=0\n",
    "            i = 1\n",
    "            while i < len(points) and points[i - 1][1] >= points[i][0] and points[0][1] >= points[i][0]:\n",
    "                i += 1\n",
    "                count += 1\n",
    "                \n",
    "            while count >= 0:\n",
    "                del points[count]\n",
    "                count -= 1\n",
    "\n",
    "            shots += 1\n",
    "        print(\"\\nКоличество выстрелов:\", shots)"
   ]
  },
  {
   "cell_type": "code",
   "execution_count": 2,
   "metadata": {},
   "outputs": [
    {
     "name": "stdout",
     "output_type": "stream",
     "text": [
      "Массив:\n",
      " [[6, 79], [11, 20], [24, 50], [38, 43], [45, 71], [53, 58], [65, 76], [67, 74]]\n",
      "\n",
      "Количество выстрелов: 4\n"
     ]
    }
   ],
   "source": [
    "solve()"
   ]
  },
  {
   "cell_type": "markdown",
   "metadata": {},
   "source": [
    "### Задача «Стопки монет»"
   ]
  },
  {
   "cell_type": "markdown",
   "metadata": {},
   "source": [
    "На столе стоят 3n стопок монет. Вы и ваши друзья Алиса и Боб забираете стопки монет по следующему алгоритму:\n",
    "\n",
    "Вы выбираете 3 стопки монет из оставшихся на столе.\n",
    "Алиса забирает себе стопку с максимальным количеством монет.\n",
    "Вы забираете одну из двух оставшихся стопок.\n",
    "Боб забирает последнюю стопку.\n",
    "Если еще остались стопки, то действия повторяются с первого шага. Дан массив целых положительных чисел piles. Напишите функцию, возвращающую максимальное число монет, которое вы можете получить."
   ]
  },
  {
   "cell_type": "code",
   "execution_count": 3,
   "metadata": {},
   "outputs": [
    {
     "name": "stdout",
     "output_type": "stream",
     "text": [
      "[2,4,5] --> 4\n"
     ]
    }
   ],
   "source": [
    "def max_coint(arr):\n",
    "    arr.sort()\n",
    "    res=0\n",
    "    n=len(arr)//3\n",
    "    for i in range (n, len(arr), 2):\n",
    "        res+=arr[i]\n",
    "    return res\n",
    "\n",
    "print(\"[2,4,5] -->\", max_coint([2,4,5]))"
   ]
  },
  {
   "cell_type": "markdown",
   "metadata": {},
   "source": [
    "### Задача «Объединение отрезков»"
   ]
  },
  {
   "cell_type": "markdown",
   "metadata": {},
   "source": [
    "Дан массив отрезков intervals, в котором intervals[i] = [starti, endi], некоторые отрезки могут пересекаться. Напишите функцию, которая объединяет все пересекающиеся отрезки в один и возвращает новый массив непересекающихся отрезков."
   ]
  },
  {
   "cell_type": "code",
   "execution_count": 4,
   "metadata": {},
   "outputs": [
    {
     "name": "stdout",
     "output_type": "stream",
     "text": [
      "[[1, 6], [8, 10], [15, 18]]\n"
     ]
    }
   ],
   "source": [
    "# если встречается конец отрезка, \n",
    "# который по значению меньше, чем начало следующего отрезка, \n",
    "# то появляется новый, обособелнный от других отрезок и добавляем его в результат\n",
    "# Иначе берем конец следующего отрезка и меняем текущий конец\n",
    "def concate_intervals(intervals):\n",
    "    result = []\n",
    "    intervals.sort()\n",
    "    for interval in intervals:\n",
    "        if result == [] or result[-1][1] < interval[0]:\n",
    "            result.append(interval)\n",
    "        else:\n",
    "            result[-1][1] = max(result[-1][1], interval[1])\n",
    "    return result\n",
    "\n",
    "print(concate_intervals([[1,3],[2,6],[8,10],[15,18]]))"
   ]
  },
  {
   "cell_type": "markdown",
   "metadata": {},
   "source": [
    "### Задача «Треугольник с максимальным периметром»"
   ]
  },
  {
   "cell_type": "markdown",
   "metadata": {},
   "source": [
    "Массив A состоит из целых положительных чисел длин отрезков. Составьте из трех отрезков такой треугольник, чтобы его периметр был максимально возможным. Если невозможно составить треугольник с положительной площадью функция возвращает 0."
   ]
  },
  {
   "cell_type": "code",
   "execution_count": 5,
   "metadata": {},
   "outputs": [
    {
     "name": "stdout",
     "output_type": "stream",
     "text": [
      "Периметр треугольника:  10\n"
     ]
    }
   ],
   "source": [
    "a = [3,2,3,4]\n",
    "a.sort(reverse=True)\n",
    "j = 0\n",
    "while True:\n",
    "    a_1 = a[j]\n",
    "    a_2 = a[j + 1]\n",
    "    try:\n",
    "        if a_1 + a_2 > a[j + 2] and a_2 + a[j + 2] > a_1 and a_1 + a[j + 2] > a_2:\n",
    "            a_3 = a[j + 2]\n",
    "            print(\"Периметр треугольника: \", a_1 + a_2 + a_3)\n",
    "            break\n",
    "    except IndexError:\n",
    "        print(\"Невозможно найти периметр\")\n",
    "        break\n",
    "    j+=1"
   ]
  },
  {
   "cell_type": "markdown",
   "metadata": {},
   "source": [
    "### Задача «Максимальное число»"
   ]
  },
  {
   "cell_type": "markdown",
   "metadata": {},
   "source": [
    "Дан массив неотрицательных целых чисел nums. Расположите их в таком порядке, чтобы\n",
    "вместе они образовали максимально возможное число."
   ]
  },
  {
   "cell_type": "code",
   "execution_count": 6,
   "metadata": {},
   "outputs": [
    {
     "name": "stdout",
     "output_type": "stream",
     "text": [
      "9534330\n"
     ]
    }
   ],
   "source": [
    "# Исходный массив\n",
    "nums = [3, 30, 34, 5, 9]\n",
    "# Вычисляем длину максимального элемента\n",
    "max_len = len(str(max(nums)))\n",
    "# Переводим все элементы массива в строковый тип\n",
    "nums = [str(i) for i in nums]\n",
    "# Функция повторяет последнюю цифру, пока число не станет по длине как самое длинное из списка\n",
    "def change_elem(s):\n",
    "    return s + s[-1] * (max_len - len(s))\n",
    "# Отсортированный массив\n",
    "sort_list = sorted(nums, key=change_elem, reverse=True)\n",
    "\n",
    "print(''.join(sort_list))"
   ]
  },
  {
   "cell_type": "markdown",
   "metadata": {},
   "source": [
    "### Задача «Сортировка диагоналей в матрице»"
   ]
  },
  {
   "cell_type": "markdown",
   "metadata": {},
   "source": [
    "Дана матрица mat размером m * n, значения целочисленные.\n",
    "Напишите функцию, сортирующую\n",
    "каждую диагональ матрицы по возрастанию и возвращающую получившуюся матрицу."
   ]
  },
  {
   "cell_type": "code",
   "execution_count": 7,
   "metadata": {},
   "outputs": [
    {
     "name": "stdout",
     "output_type": "stream",
     "text": [
      "mat:\n",
      "[3, 3, 1, 1]\n",
      "[2, 2, 1, 2]\n",
      "[1, 1, 1, 2]\n",
      "\n",
      "Sorted: \n",
      "[1, 1, 1, 1]\n",
      "[1, 2, 2, 2]\n",
      "[1, 2, 3, 3]\n",
      "\n",
      "mat:\n",
      "[11, 25, 66, 1, 69, 7]\n",
      "[23, 55, 17, 45, 15, 52]\n",
      "[75, 31, 36, 44, 58, 8]\n",
      "[22, 27, 33, 25, 68, 4]\n",
      "[84, 28, 14, 11, 5, 50]\n",
      "\n",
      "Sorted: \n",
      "[5, 17, 4, 1, 52, 7]\n",
      "[11, 11, 25, 45, 8, 69]\n",
      "[14, 23, 25, 44, 58, 15]\n",
      "[22, 27, 31, 36, 50, 66]\n",
      "[84, 28, 75, 33, 55, 68]\n"
     ]
    }
   ],
   "source": [
    "def sortDiag(mat):\n",
    "    # Размер матрицы\n",
    "    m, n = len(mat), len(mat[0])\n",
    "    \n",
    "    # Пустой массив для диагоналей исходной матрицы\n",
    "    temp = [[] for i in range(m+n)]\n",
    "    \n",
    "        \n",
    "    # Добавляем каждую диагональ в массив t\n",
    "    for i in range(m):\n",
    "        for j in range(n):\n",
    "            temp[i - j].append(mat[i][j])\n",
    "    \n",
    "    # Сортируем каждую диагональ (т.е линию) массива\n",
    "    for line in temp:\n",
    "        line.sort(reverse = True)\n",
    "    \n",
    "    # \"Линии\" в диагонали матрицы\n",
    "    for i in range(m):\n",
    "        for j in range(n):\n",
    "            # pop() удаляет последний элемент массива и возвращает его\n",
    "            mat[i][j] = temp[i-j].pop()\n",
    "    return mat\n",
    "\n",
    "arr = [[3,3,1,1], [2,2,1,2], [1,1,1,2]]\n",
    "print(\"mat:\")\n",
    "for l in arr:\n",
    "    print(l) \n",
    "print(\"\\nSorted: \")\n",
    "arr = sortDiag(arr)\n",
    "for l in arr:\n",
    "    print(l)\n",
    "arr = [[11, 25, 66, 1, 69, 7], [23, 55, 17, 45, 15, 52], [75, 31, 36, 44, 58, 8], [22, 27, 33, 25, 68, 4], [84, 28, 14, 11, 5, 50]]\n",
    "print(\"\\nmat:\")\n",
    "for l in arr:\n",
    "    print(l)\n",
    "    \n",
    "print(\"\\nSorted: \")\n",
    "arr = sortDiag(arr)\n",
    "for l in arr:\n",
    "    print(l)"
   ]
  },
  {
   "cell_type": "markdown",
   "metadata": {},
   "source": [
    "### Задача на строки 1"
   ]
  },
  {
   "cell_type": "markdown",
   "metadata": {},
   "source": [
    "Даны две строки: s1 и s2 с одинаковым размером, проверьте, может ли некоторая перестановка строки s1 “победить” некоторую перестановку строки s2 или наоборот. Строка x может “победить” строку y (обе имеют размер n), если x[i]> = y [i] (в алфавитном порядке) для всех i от 0 до n-1."
   ]
  },
  {
   "cell_type": "code",
   "execution_count": 8,
   "metadata": {},
   "outputs": [
    {
     "name": "stdout",
     "output_type": "stream",
     "text": [
      "True\n",
      "False\n"
     ]
    }
   ],
   "source": [
    "def solve(str1, str2):\n",
    "    sorted1 = ''.join(sorted(str1));\n",
    "    sorted2 = ''.join(sorted(str2));\n",
    "    firstWon = True; secondWon = True;\n",
    "    \n",
    "    for i in range(0, len(sorted1)):\n",
    "        if not (sorted1[i] >= sorted2[i]):\n",
    "            firstWon = False\n",
    "            break;\n",
    "    \n",
    "    if not firstWon:\n",
    "        for i in range(0, len(sorted1)):\n",
    "            if not(sorted2[i] >= sorted1[i]):\n",
    "                secondWon = False\n",
    "                break;\n",
    "    else: secondWon = False\n",
    "    \n",
    "    return (firstWon or secondWon)\n",
    "print(solve('abc', 'xya'))\n",
    "print(solve('abe', 'acd'))"
   ]
  },
  {
   "cell_type": "markdown",
   "metadata": {},
   "source": [
    "### Задача на строки 2"
   ]
  },
  {
   "cell_type": "markdown",
   "metadata": {},
   "source": [
    "Дана строка s, вернуть самую длинную полиндромную подстроку в s."
   ]
  },
  {
   "cell_type": "code",
   "execution_count": 9,
   "metadata": {},
   "outputs": [
    {
     "name": "stdout",
     "output_type": "stream",
     "text": [
      "aba\n"
     ]
    }
   ],
   "source": [
    "def longest_palindrome(text):\n",
    "    longest = \"\"\n",
    "    for i in range(len(text)):\n",
    "        for j in range(0, i):\n",
    "            chunk = text[j:i + 1]\n",
    "            if chunk == chunk[::-1]:\n",
    "                if len(chunk) >= len(longest):\n",
    "                    longest = chunk\n",
    "    return longest\n",
    "\n",
    "print(longest_palindrome(\"babad\"))"
   ]
  },
  {
   "cell_type": "markdown",
   "metadata": {},
   "source": [
    "### Задача на строки 3"
   ]
  },
  {
   "cell_type": "markdown",
   "metadata": {},
   "source": [
    "Вернуть количество отдельных непустых подстрок текста, которые могут быть записаны как конкатенация некоторой строки с самой собой (т.е. она может быть записана, как a + a, где a - некоторая строка)."
   ]
  },
  {
   "cell_type": "code",
   "execution_count": 10,
   "metadata": {},
   "outputs": [
    {
     "name": "stdout",
     "output_type": "stream",
     "text": [
      "3\n"
     ]
    }
   ],
   "source": [
    "def empty(text):\n",
    "    length = len(text)\n",
    "    result = []\n",
    "    for i in range(0, length):\n",
    "        for j in range(i + 1, length + 1):\n",
    "            temp = text[i:j]\n",
    "            for i in range(0, len(temp)):\n",
    "                flag = False\n",
    "                if temp[0:i] == temp[i:len(temp)]:\n",
    "                    result.append(temp)\n",
    "                    flag = True\n",
    "                if flag == True: break;              \n",
    "    return len(set(result))\n",
    "print(empty('abcabcabc'))"
   ]
  },
  {
   "cell_type": "markdown",
   "metadata": {},
   "source": [
    "## Вывод"
   ]
  },
  {
   "cell_type": "markdown",
   "metadata": {},
   "source": [
    "В ходе курсовой работы я научился решать 9 различных задач в языке программирования Python 3, направленных на освоение различных тем и компетенций в данном языке программирования."
   ]
  }
 ],
 "metadata": {
  "kernelspec": {
   "display_name": "Python 3",
   "language": "python",
   "name": "python3"
  },
  "language_info": {
   "codemirror_mode": {
    "name": "ipython",
    "version": 3
   },
   "file_extension": ".py",
   "mimetype": "text/x-python",
   "name": "python",
   "nbconvert_exporter": "python",
   "pygments_lexer": "ipython3",
   "version": "3.8.5"
  }
 },
 "nbformat": 4,
 "nbformat_minor": 4
}
