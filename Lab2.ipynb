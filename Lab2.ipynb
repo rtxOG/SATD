{
 "cells": [
  {
   "cell_type": "markdown",
   "metadata": {},
   "source": [
    "### Лабораторная работа №2\n",
    "## Выполнил студент группы БСТ1902 Черняев С.А.\n",
    "\n",
    "### Задание 1\n",
    "Организовать генерацию начального набора случайных данных. Реализовать методы поиска в соответствии с заданием."
   ]
  },
  {
   "cell_type": "markdown",
   "metadata": {},
   "source": [
    "# Генерация массива"
   ]
  },
  {
   "cell_type": "code",
   "execution_count": 1,
   "metadata": {},
   "outputs": [
    {
     "name": "stdout",
     "output_type": "stream",
     "text": [
      "Исходный массив:\n",
      "\n",
      " [7, 13, 16, 21, 24, 97, 99, 107]\n"
     ]
    }
   ],
   "source": [
    "import random\n",
    "import numpy\n",
    "\n",
    "arr = []\n",
    "for i in range(8):\n",
    "    arr.append(random.randint(0,123))\n",
    "arr1=arr.copy()\n",
    "arr.sort()\n",
    "print('Исходный массив:\\n\\n',arr)"
   ]
  },
  {
   "cell_type": "markdown",
   "metadata": {},
   "source": [
    "# Методы поиска:"
   ]
  },
  {
   "cell_type": "markdown",
   "metadata": {},
   "source": [
    "# 1.Бинарный поиск"
   ]
  },
  {
   "cell_type": "code",
   "execution_count": 2,
   "metadata": {},
   "outputs": [],
   "source": [
    "def BinSearch(arr,x):\n",
    "    left = 0\n",
    "    right = len(arr)-1\n",
    "    mid = int(right/2)\n",
    "    while arr[mid] != x and left <= right:\n",
    "        if x > arr[mid]:\n",
    "            left = mid+1\n",
    "        else:\n",
    "            right = mid-1\n",
    "        mid = int((left+right)/2)\n",
    "    if left > right:\n",
    "        return -1\n",
    "    else:\n",
    "        return mid"
   ]
  },
  {
   "cell_type": "code",
   "execution_count": 3,
   "metadata": {},
   "outputs": [],
   "source": [
    "# Время\n",
    "#%%time\n",
    "#BinSearch(arr,11)"
   ]
  },
  {
   "cell_type": "code",
   "execution_count": 4,
   "metadata": {},
   "outputs": [
    {
     "name": "stdout",
     "output_type": "stream",
     "text": [
      "Исходный массив:\n",
      "\n",
      " [7, 13, 16, 21, 24, 97, 99, 107]\n",
      "\n",
      "Введите элемент для поиска: 16\n",
      "\n",
      "Найден элемент с индексом:  2\n",
      "\n",
      "Вы хотите удалить данный элемент?\n",
      "\t1 - да, хочу\n",
      " \t2 - нет, не хочу\n",
      "\n",
      "Выбранный вариант: 1\n",
      "\n",
      "Новый массив:\n",
      "\n",
      " [7, 13, 21, 24, 97, 99, 107]\n"
     ]
    }
   ],
   "source": [
    "print('Исходный массив:\\n\\n',arr)\n",
    "x = int(input('\\nВведите элемент для поиска: '))\n",
    "a=BinSearch(arr,x)\n",
    "if a==-1:\n",
    "    print('\\nНе найден элемент')\n",
    "else:\n",
    "    print('\\nНайден элемент с индексом: ',a)\n",
    "    print('\\nВы хотите удалить данный элемент?')\n",
    "    print('\\t1 - да, хочу\\n \\t2 - нет, не хочу')\n",
    "    b=int(input('\\nВыбранный вариант: '))\n",
    "    if b==1:\n",
    "        del arr[a]\n",
    "        print('\\nНовый массив:\\n\\n',arr)"
   ]
  },
  {
   "cell_type": "markdown",
   "metadata": {},
   "source": [
    "# 2.Бинарное дерево "
   ]
  },
  {
   "cell_type": "code",
   "execution_count": 5,
   "metadata": {},
   "outputs": [],
   "source": [
    "class Tree:\n",
    "    \n",
    "    # Конструктар класса\n",
    "    def __init__(self, val=None):\n",
    "        self.left = None\n",
    "        self.right = None\n",
    "        self.val = val\n",
    "\n",
    "    # Метод для вывода\n",
    "    def __str__(self):\n",
    "        return \"[%s, %s, %s]\" % (self.left, str(self.val), self.right)\n",
    "\n",
    "    # Метод для проверки ячейки на пустоту\n",
    "    def isEmpty(self):\n",
    "        return self.left == self.right == self.val == None\n",
    "\n",
    "    # Метод вставки\n",
    "    def insert(self, val):\n",
    "        if self.isEmpty():\n",
    "            self.val = val\n",
    "        elif val < self.val:\n",
    "            if self.left is None:\n",
    "                self.left = Tree(val)\n",
    "            else:\n",
    "                self.left.insert(val)\n",
    "        else:\n",
    "            if self.right is None:\n",
    "                self.right = Tree(val)\n",
    "            else:\n",
    "                self.right.insert(val)\n",
    "                \n",
    "                \n",
    "    # Метод поиска\n",
    "    def findval(self, lkpval):\n",
    "        if lkpval < self.val:\n",
    "            if self.left is None:\n",
    "                return ('Элемент \\\"'+str(lkpval)+'\\\" не найден')\n",
    "            return self.left.findval(lkpval)\n",
    "        elif lkpval > self.val:\n",
    "            if self.right is None:\n",
    "                return ('Элемент \\\"'+str(lkpval)+'\\\" не найден')\n",
    "            return self.right.findval(lkpval)\n",
    "        else:\n",
    "            print('Элемент \\\"'+str(self.val)+'\\\" найден')"
   ]
  },
  {
   "cell_type": "code",
   "execution_count": 6,
   "metadata": {},
   "outputs": [
    {
     "name": "stdout",
     "output_type": "stream",
     "text": [
      "Бинарное дерево:  [[None, 7, None], 13, [None, 16, [[[None, 21, None], 24, None], 97, [None, 99, [None, 107, None]]]]]\n",
      "\n",
      "Введите элемент для поиска: 21\n",
      "Элемент \"21\" найден\n"
     ]
    }
   ],
   "source": [
    "a = Tree(arr1[0])\n",
    "for i in range(1,len(arr1)):\n",
    "    a.insert(arr1[i])\n",
    "    \n",
    "print(\"Бинарное дерево: \",a)\n",
    "\n",
    "x = int(input('\\nВведите элемент для поиска: '))\n",
    "a.findval(x)"
   ]
  },
  {
   "cell_type": "markdown",
   "metadata": {},
   "source": [
    "# 3.Фибоначчиев поиск"
   ]
  },
  {
   "cell_type": "code",
   "execution_count": 7,
   "metadata": {},
   "outputs": [],
   "source": [
    "def FibonacciSearch(arr, x):\n",
    "    fibM_minus_2 = 0\n",
    "    fibM_minus_1 = 1\n",
    "    fibM = fibM_minus_1 + fibM_minus_2\n",
    "    while (fibM < len(arr)):\n",
    "        fibM_minus_2 = fibM_minus_1\n",
    "        fibM_minus_1 = fibM\n",
    "        fibM = fibM_minus_1 + fibM_minus_2\n",
    "    index = -1;\n",
    "    while (fibM > 1):\n",
    "        i = min(index + fibM_minus_2, (len(arr)-1))\n",
    "        if (arr[i] < x):\n",
    "            fibM = fibM_minus_1\n",
    "            fibM_minus_1 = fibM_minus_2\n",
    "            fibM_minus_2 = fibM - fibM_minus_1\n",
    "            index = i\n",
    "        elif (arr[i] > x):\n",
    "            fibM = fibM_minus_2\n",
    "            fibM_minus_1 = fibM_minus_1 - fibM_minus_2\n",
    "            fibM_minus_2 = fibM - fibM_minus_1\n",
    "        else :\n",
    "            return i\n",
    "    if(fibM_minus_1 and index < (len(arr)-1) and arr[index+1] == x):\n",
    "        return index+1;\n",
    "    return -1"
   ]
  },
  {
   "cell_type": "code",
   "execution_count": 8,
   "metadata": {},
   "outputs": [
    {
     "name": "stdout",
     "output_type": "stream",
     "text": [
      "Исходный массив:\n",
      "\n",
      " [7, 13, 21, 24, 97, 99, 107]\n",
      "\n",
      "Введите элемент для поиска: 99\n",
      "\n",
      "Найден элемент с индексом:  5\n",
      "\n",
      "Вы хотите удалить данный элемент?\n",
      "\t1 - да, хочу\n",
      " \t2 - нет, не хочу\n",
      "\n",
      "Выбранный вариант: 2\n"
     ]
    }
   ],
   "source": [
    "print('Исходный массив:\\n\\n',arr)\n",
    "x = int(input('\\nВведите элемент для поиска: '))\n",
    "a=FibonacciSearch(arr,x)\n",
    "if a==-1:\n",
    "    print('\\nНе найден элемент')\n",
    "else:\n",
    "    print('\\nНайден элемент с индексом: ',a)\n",
    "    print('\\nВы хотите удалить данный элемент?')\n",
    "    print('\\t1 - да, хочу\\n \\t2 - нет, не хочу')\n",
    "    b=int(input('\\nВыбранный вариант: '))\n",
    "    if b==1:\n",
    "        del arr[a]\n",
    "        print('\\nНовый массив:\\n\\n',arr)"
   ]
  },
  {
   "cell_type": "markdown",
   "metadata": {},
   "source": [
    "# 4. Интерполяционный поиск"
   ]
  },
  {
   "cell_type": "code",
   "execution_count": 9,
   "metadata": {},
   "outputs": [],
   "source": [
    "def InterpolationSearch(arr, x):\n",
    "    low = 0\n",
    "    high = (len(arr) - 1)\n",
    "    while low <= high and x >= arr[low] and x <= arr[high]:\n",
    "        index = low + int(((float(high - low) / ( arr[high] - arr[low])) * ( x - arr[low])))\n",
    "        if arr[index] == x:\n",
    "            return index\n",
    "        if arr[index] < x:\n",
    "            low = index + 1;\n",
    "        else:\n",
    "            high = index - 1;\n",
    "    return -1"
   ]
  },
  {
   "cell_type": "code",
   "execution_count": 10,
   "metadata": {},
   "outputs": [
    {
     "name": "stdout",
     "output_type": "stream",
     "text": [
      "Исходный массив:\n",
      "\n",
      " [7, 13, 21, 24, 97, 99, 107]\n",
      "\n",
      "Введите элемент для поиска: 14\n",
      "\n",
      "Не найден элемент\n"
     ]
    }
   ],
   "source": [
    "print('Исходный массив:\\n\\n',arr)\n",
    "x = int(input('\\nВведите элемент для поиска: '))\n",
    "a=InterpolationSearch(arr,x)\n",
    "if a==-1:\n",
    "    print('\\nНе найден элемент')\n",
    "else:\n",
    "    print('\\nНайден элемент с индексом: ',a)\n",
    "    print('\\nВы хотите удалить данный элемент?')\n",
    "    print('\\t1 - да, хочу\\n \\t2 - нет, не хочу')\n",
    "    b=int(input('\\nВыбранный вариант: '))\n",
    "    if b==1:\n",
    "        del arr[a]\n",
    "        print('\\nНовый массив:\\n\\n',arr)"
   ]
  },
  {
   "cell_type": "markdown",
   "metadata": {},
   "source": [
    "# Задание 2\n",
    "## Генерация слов"
   ]
  },
  {
   "cell_type": "code",
   "execution_count": 11,
   "metadata": {},
   "outputs": [
    {
     "name": "stdout",
     "output_type": "stream",
     "text": [
      "Исходный список слов:\n",
      "\n",
      " ['UWJS', 'iuxW', 'ACSnX', 'kfqVl', 'cEheAdYhW', 'YLOaH', 'Ld', 'IXuJOZTf', 'ui', 'UeIhOYJ', 'owQb', 'LYFXtjmrw', 'FHJXVFPzF']\n"
     ]
    }
   ],
   "source": [
    "import string\n",
    "import random\n",
    "\n",
    "words1 = []\n",
    "words1 = [\"\".join(random.choice(string.ascii_letters) for j in range(random.randint(2,10)) ) for i in range(random.randint(5,20)) ]\n",
    "\n",
    "print('Исходный список слов:\\n\\n',words1)"
   ]
  },
  {
   "cell_type": "markdown",
   "metadata": {},
   "source": [
    "# Функция хеширования"
   ]
  },
  {
   "cell_type": "code",
   "execution_count": 12,
   "metadata": {},
   "outputs": [],
   "source": [
    "def GetHash(word):\n",
    "    hash = 1\n",
    "    for i in range(len(word)):\n",
    "        hash *= (ord(word[i])+127)*341\n",
    "    hash %= 1024\n",
    "    return hash"
   ]
  },
  {
   "cell_type": "markdown",
   "metadata": {},
   "source": [
    "# Хеш-табица"
   ]
  },
  {
   "cell_type": "code",
   "execution_count": 13,
   "metadata": {},
   "outputs": [],
   "source": [
    "class HashTable:\n",
    "    def __init__(self):\n",
    "        self.__size = 1024\n",
    "        self.__table = []\n",
    "        for i in range(self.__size):\n",
    "            self.__table.append(None)\n",
    "\n",
    "    def add(self, key, value):\n",
    "        self.__table[key] = value\n",
    "\n",
    "    def delete(self, key):\n",
    "        self.__table[key] = None\n",
    "\n",
    "    def contains(self, key):\n",
    "        return self.__table[key] is not None\n",
    "\n",
    "    def get(self, key):\n",
    "        return self.__table[key]"
   ]
  },
  {
   "cell_type": "markdown",
   "metadata": {},
   "source": [
    "# Функции рехеширования:\n",
    "\n",
    "## 1. Простое рехеширование"
   ]
  },
  {
   "cell_type": "code",
   "execution_count": 14,
   "metadata": {},
   "outputs": [],
   "source": [
    "class SimpleRehash:\n",
    "    def __init__(self):\n",
    "        self.table=HashTable()\n",
    "        \n",
    "    def add(self,value):\n",
    "        hsh=GetHash(value)\n",
    "        if not self.table.contains(hsh):\n",
    "            self.table.add(hsh,value)\n",
    "        else:\n",
    "            self.rehash(hsh,value)\n",
    "            \n",
    "    def rehash(self,hsh,value):\n",
    "        while self.table.contains(hsh):\n",
    "            hsh+=1\n",
    "            if hsh>=1024:\n",
    "                hsh %=1024\n",
    "        self.table.add(hsh,value)\n",
    "        \n",
    "    def find(self,value):\n",
    "        for i in range(1024):\n",
    "            if self.table.get(i)==value:\n",
    "                return i\n",
    "        return -1\n",
    "    \n",
    "    def delete(self,value):\n",
    "        hsh=self.find(value)\n",
    "        if hsh>-1:\n",
    "            self.table.delete(hsh)\n",
    "        \n",
    "    def print_table(self):\n",
    "        for i in range(1024):\n",
    "            if self.table.get(i) is not None:\n",
    "                print(i,\"--\",self.table.get(i))"
   ]
  },
  {
   "cell_type": "markdown",
   "metadata": {},
   "source": [
    "# 2. Рехеширование с помошью псевдослучайных чисел"
   ]
  },
  {
   "cell_type": "code",
   "execution_count": 15,
   "metadata": {},
   "outputs": [],
   "source": [
    "class RandomRehash:\n",
    "    def __init__(self):\n",
    "        self.table=HashTable()\n",
    "        \n",
    "    def add(self,value):\n",
    "        hsh=GetHash(value)\n",
    "        if not self.table.contains(hsh):\n",
    "            self.table.add(hsh,value)\n",
    "        else:\n",
    "            self.rehash(hsh,value)\n",
    "            \n",
    "    def rehash(self,hsh,value):\n",
    "        while self.table.contains(hsh):\n",
    "            hsh+=random.randint(0,100)\n",
    "            if hsh>=1024:\n",
    "                hsh %=1024\n",
    "        self.table.add(hsh,value)\n",
    "        \n",
    "    def find(self,value):\n",
    "        for i in range(1024):\n",
    "            if self.table.get(i)==value:\n",
    "                return i\n",
    "        return -1\n",
    "    \n",
    "    def delete(self,value):\n",
    "        hsh=self.find(value)\n",
    "        if hsh>-1:\n",
    "            self.table.delete(hsh)\n",
    "        \n",
    "    def print_table(self):\n",
    "        for i in range(1024):\n",
    "            if self.table.get(i) is not None:\n",
    "                print(i,\"--\",self.table.get(i))"
   ]
  },
  {
   "cell_type": "markdown",
   "metadata": {},
   "source": [
    "# 3. Рехеширование с помощью метода цепочек "
   ]
  },
  {
   "cell_type": "code",
   "execution_count": 16,
   "metadata": {},
   "outputs": [],
   "source": [
    "#Хеш-таблица для метода цепочек\n",
    "class Chain:\n",
    "    def __init__(self):\n",
    "        self.size = 1024\n",
    "        self.table = []\n",
    "        for i in range(self.size):\n",
    "            self.table.append(None)\n",
    "\n",
    "    def _add(self,key,value):\n",
    "        if self.table[key] is None:\n",
    "            self.table[key]=Elem(value)\n",
    "        else:\n",
    "            self.table[key].add(value)\n",
    "\n",
    "    def _get(self,key):\n",
    "        if self.table[key] is None:\n",
    "            return None\n",
    "        else:\n",
    "            return self.table[key].get()\n",
    "\n",
    "    def _delete(self,key,value):\n",
    "        if self.table[key] is not None and self.table[key].contains(value):\n",
    "            temp=self.table[key].get()\n",
    "            if temp[0]==value:\n",
    "                self.table[key]=self.table[key].next\n",
    "            else:\n",
    "                self.table[key].delete(value)\n",
    "                \n",
    "    def _contains(self,key,value):\n",
    "        if self.table[key] is None:\n",
    "            return False\n",
    "        else:\n",
    "            return self.table[key].contains(value)\n",
    "\n",
    "\n",
    "class Elem:\n",
    "    def __init__(self,value):\n",
    "        self.value=value\n",
    "        self.next=None\n",
    "\n",
    "    def add(self,value):\n",
    "        if self.value!=value:\n",
    "            if self.next is None:\n",
    "                self.next=Elem(value)\n",
    "            else:\n",
    "                self.next.add(value)\n",
    "\n",
    "    def get(self):\n",
    "        if self.next is None:\n",
    "            arr=[self.value]\n",
    "            return arr\n",
    "        else:\n",
    "            arr=[self.value]\n",
    "            arr.extend(self.next.get())\n",
    "            return arr\n",
    "\n",
    "    def delete(self,value):\n",
    "        if self.next is not None:\n",
    "            if self.next.value==value:\n",
    "                self.next=self.next.next\n",
    "            else:\n",
    "                self.next.delete(value)\n",
    "\n",
    "    def contains(self,value):\n",
    "        if self.value==value:\n",
    "            return True\n",
    "        elif self.next is not None:\n",
    "            return self.next.contains(value)\n",
    "        else:\n",
    "            return False"
   ]
  },
  {
   "cell_type": "code",
   "execution_count": 17,
   "metadata": {},
   "outputs": [],
   "source": [
    "class ChainsRehash:\n",
    "    def __init__(self):\n",
    "        self.table=Chain()\n",
    "    \n",
    "    def add(self,value):\n",
    "        hsh=GetHash(value)\n",
    "        self.table._add(hsh,value)\n",
    "    \n",
    "    def delete(self,value):\n",
    "        hsh=GetHash(value)\n",
    "        self.table._delete(hsh,value)\n",
    "        \n",
    "    def find(self,value):\n",
    "        hsh=GetHash(value)\n",
    "        if self.table._contains(hsh,value):\n",
    "            return hsh\n",
    "        else:\n",
    "            return -1\n",
    "    \n",
    "    def print_table(self):\n",
    "        for i in range(1024):\n",
    "             if self.table._get(i) is not None:\n",
    "                print(i,\"--\",self.table._get(i))"
   ]
  },
  {
   "cell_type": "markdown",
   "metadata": {},
   "source": [
    "# Результаты работы функций"
   ]
  },
  {
   "cell_type": "code",
   "execution_count": 18,
   "metadata": {},
   "outputs": [
    {
     "name": "stdout",
     "output_type": "stream",
     "text": [
      "\n",
      "Простое рехеширование\n",
      "0 -- cEheAdYhW\n",
      "1 -- UeIhOYJ\n",
      "32 -- ui\n",
      "112 -- UWJS\n",
      "123 -- FHJXVFPzF\n",
      "256 -- ACSnX\n",
      "320 -- iuxW\n",
      "321 -- LYFXtjmrw\n",
      "512 -- YLOaH\n",
      "569 -- Ld\n",
      "576 -- owQb\n",
      "672 -- kfqVl\n",
      "704 -- IXuJOZTf\n",
      "\n",
      "Рандомное рехеширование\n",
      "0 -- cEheAdYhW\n",
      "32 -- ui\n",
      "50 -- UeIhOYJ\n",
      "112 -- UWJS\n",
      "123 -- FHJXVFPzF\n",
      "256 -- ACSnX\n",
      "320 -- iuxW\n",
      "367 -- LYFXtjmrw\n",
      "512 -- YLOaH\n",
      "569 -- Ld\n",
      "576 -- owQb\n",
      "672 -- kfqVl\n",
      "704 -- IXuJOZTf\n",
      "\n",
      "Цепочки рехеширование\n",
      "0 -- ['cEheAdYhW', 'UeIhOYJ']\n",
      "32 -- ['ui']\n",
      "112 -- ['UWJS']\n",
      "123 -- ['FHJXVFPzF']\n",
      "256 -- ['ACSnX']\n",
      "320 -- ['iuxW', 'LYFXtjmrw']\n",
      "512 -- ['YLOaH']\n",
      "569 -- ['Ld']\n",
      "576 -- ['owQb']\n",
      "672 -- ['kfqVl']\n",
      "704 -- ['IXuJOZTf']\n"
     ]
    }
   ],
   "source": [
    "arr=words1.copy()\n",
    "simple=SimpleRehash()\n",
    "rand=RandomRehash()\n",
    "chains=ChainsRehash()\n",
    "\n",
    "for i in range(len(arr)):\n",
    "    simple.add(arr[i])\n",
    "    rand.add(arr[i])\n",
    "    chains.add(arr[i])\n",
    "\n",
    "print(\"\\nПростое рехеширование\")\n",
    "simple.print_table()\n",
    "\n",
    "print(\"\\nРандомное рехеширование\")\n",
    "rand.print_table()\n",
    "\n",
    "print(\"\\nЦепочки рехеширование\")\n",
    "chains.print_table()"
   ]
  },
  {
   "cell_type": "markdown",
   "metadata": {},
   "source": [
    "# Удаление"
   ]
  },
  {
   "cell_type": "code",
   "execution_count": 19,
   "metadata": {},
   "outputs": [
    {
     "name": "stdout",
     "output_type": "stream",
     "text": [
      "\n",
      "Что удалить?\n",
      "UWJS\n",
      "\n",
      "Простое рехеширование\n",
      "0 -- cEheAdYhW\n",
      "1 -- UeIhOYJ\n",
      "32 -- ui\n",
      "123 -- FHJXVFPzF\n",
      "256 -- ACSnX\n",
      "320 -- iuxW\n",
      "321 -- LYFXtjmrw\n",
      "512 -- YLOaH\n",
      "569 -- Ld\n",
      "576 -- owQb\n",
      "672 -- kfqVl\n",
      "704 -- IXuJOZTf\n",
      "\n",
      "Рандомное рехеширование\n",
      "0 -- cEheAdYhW\n",
      "32 -- ui\n",
      "50 -- UeIhOYJ\n",
      "123 -- FHJXVFPzF\n",
      "256 -- ACSnX\n",
      "320 -- iuxW\n",
      "367 -- LYFXtjmrw\n",
      "512 -- YLOaH\n",
      "569 -- Ld\n",
      "576 -- owQb\n",
      "672 -- kfqVl\n",
      "704 -- IXuJOZTf\n",
      "\n",
      "Цепочки рехеширование\n",
      "0 -- ['cEheAdYhW', 'UeIhOYJ']\n",
      "32 -- ['ui']\n",
      "123 -- ['FHJXVFPzF']\n",
      "256 -- ['ACSnX']\n",
      "320 -- ['iuxW', 'LYFXtjmrw']\n",
      "512 -- ['YLOaH']\n",
      "569 -- ['Ld']\n",
      "576 -- ['owQb']\n",
      "672 -- ['kfqVl']\n",
      "704 -- ['IXuJOZTf']\n"
     ]
    }
   ],
   "source": [
    "x=input(\"\\nЧто удалить?\\n\")\n",
    "\n",
    "simple.delete(x)\n",
    "rand.delete(x)\n",
    "chains.delete(x)\n",
    "\n",
    "print(\"\\nПростое рехеширование\")\n",
    "simple.print_table()\n",
    "\n",
    "print(\"\\nРандомное рехеширование\")\n",
    "rand.print_table()\n",
    "\n",
    "print(\"\\nЦепочки рехеширование\")\n",
    "chains.print_table()"
   ]
  },
  {
   "cell_type": "markdown",
   "metadata": {},
   "source": [
    "# Поиск"
   ]
  },
  {
   "cell_type": "code",
   "execution_count": 20,
   "metadata": {},
   "outputs": [
    {
     "name": "stdout",
     "output_type": "stream",
     "text": [
      "\n",
      "Что найти?\n",
      "Ld\n",
      "\n",
      "\n",
      "569\n",
      "569\n",
      "569\n"
     ]
    }
   ],
   "source": [
    "x=input(\"\\nЧто найти?\\n\")\n",
    "print(\"\\n\")\n",
    "print(simple.find(x))\n",
    "print(rand.find(x))\n",
    "print(chains.find(x))"
   ]
  },
  {
   "cell_type": "markdown",
   "metadata": {},
   "source": [
    "# Добавление"
   ]
  },
  {
   "cell_type": "code",
   "execution_count": 21,
   "metadata": {},
   "outputs": [
    {
     "name": "stdout",
     "output_type": "stream",
     "text": [
      "\n",
      "Что добавить?\n",
      "AsderteW\n",
      "\n",
      "\n",
      "\n",
      "Простое рехеширование\n",
      "0 -- cEheAdYhW\n",
      "1 -- UeIhOYJ\n",
      "2 -- AsderteW\n",
      "32 -- ui\n",
      "123 -- FHJXVFPzF\n",
      "256 -- ACSnX\n",
      "320 -- iuxW\n",
      "321 -- LYFXtjmrw\n",
      "512 -- YLOaH\n",
      "569 -- Ld\n",
      "576 -- owQb\n",
      "672 -- kfqVl\n",
      "704 -- IXuJOZTf\n",
      "\n",
      "Рандомное рехеширование\n",
      "0 -- cEheAdYhW\n",
      "18 -- AsderteW\n",
      "32 -- ui\n",
      "50 -- UeIhOYJ\n",
      "123 -- FHJXVFPzF\n",
      "256 -- ACSnX\n",
      "320 -- iuxW\n",
      "367 -- LYFXtjmrw\n",
      "512 -- YLOaH\n",
      "569 -- Ld\n",
      "576 -- owQb\n",
      "672 -- kfqVl\n",
      "704 -- IXuJOZTf\n",
      "\n",
      "Цепочки рехеширование\n",
      "0 -- ['cEheAdYhW', 'UeIhOYJ', 'AsderteW']\n",
      "32 -- ['ui']\n",
      "123 -- ['FHJXVFPzF']\n",
      "256 -- ['ACSnX']\n",
      "320 -- ['iuxW', 'LYFXtjmrw']\n",
      "512 -- ['YLOaH']\n",
      "569 -- ['Ld']\n",
      "576 -- ['owQb']\n",
      "672 -- ['kfqVl']\n",
      "704 -- ['IXuJOZTf']\n"
     ]
    }
   ],
   "source": [
    "x=input(\"\\nЧто добавить?\\n\")\n",
    "print(\"\\n\")\n",
    "\n",
    "simple.add(x)\n",
    "rand.add(x)\n",
    "chains.add(x)\n",
    "\n",
    "print(\"\\nПростое рехеширование\")\n",
    "simple.print_table()\n",
    "\n",
    "print(\"\\nРандомное рехеширование\")\n",
    "rand.print_table()\n",
    "\n",
    "print(\"\\nЦепочки рехеширование\")\n",
    "chains.print_table()"
   ]
  },
  {
   "cell_type": "markdown",
   "metadata": {},
   "source": [
    "# Задание 3"
   ]
  },
  {
   "cell_type": "code",
   "execution_count": 22,
   "metadata": {},
   "outputs": [],
   "source": [
    "from IPython.display import HTML, display\n",
    "import random\n",
    "import time\n",
    "def tag(x, color='white'):\n",
    "    return f'<td style=\"width:24px;height:24px;text-align:center;\" bgcolor=\"{color}\">{x}</td>'\n",
    "th = ''.join(map(tag, ' abcdefgh '))"
   ]
  },
  {
   "cell_type": "code",
   "execution_count": 23,
   "metadata": {},
   "outputs": [],
   "source": [
    "def chessboard(data):\n",
    "    row = lambda i: ''.join([\n",
    "        tag('<span style=\"font-size:24px\">♛</span>' * v,\n",
    "            color='white' if (i+j+1)%2 else 'darkgray')\n",
    "        for j, v in enumerate(data[i])])\n",
    "    tb = ''.join([f'<tr>{tag(8-i)}{row(i)}{tag(8-i)}</tr>' for i in range(len(data))])\n",
    "    return HTML(f'<table>{th}{tb}{th}</table>')"
   ]
  },
  {
   "cell_type": "code",
   "execution_count": 24,
   "metadata": {},
   "outputs": [
    {
     "data": {
      "text/html": [
       "<table><td style=\"width:24px;height:24px;text-align:center;\" bgcolor=\"white\"> </td><td style=\"width:24px;height:24px;text-align:center;\" bgcolor=\"white\">a</td><td style=\"width:24px;height:24px;text-align:center;\" bgcolor=\"white\">b</td><td style=\"width:24px;height:24px;text-align:center;\" bgcolor=\"white\">c</td><td style=\"width:24px;height:24px;text-align:center;\" bgcolor=\"white\">d</td><td style=\"width:24px;height:24px;text-align:center;\" bgcolor=\"white\">e</td><td style=\"width:24px;height:24px;text-align:center;\" bgcolor=\"white\">f</td><td style=\"width:24px;height:24px;text-align:center;\" bgcolor=\"white\">g</td><td style=\"width:24px;height:24px;text-align:center;\" bgcolor=\"white\">h</td><td style=\"width:24px;height:24px;text-align:center;\" bgcolor=\"white\"> </td><tr><td style=\"width:24px;height:24px;text-align:center;\" bgcolor=\"white\">8</td><td style=\"width:24px;height:24px;text-align:center;\" bgcolor=\"white\"><span style=\"font-size:24px\">♛</span></td><td style=\"width:24px;height:24px;text-align:center;\" bgcolor=\"darkgray\"></td><td style=\"width:24px;height:24px;text-align:center;\" bgcolor=\"white\"></td><td style=\"width:24px;height:24px;text-align:center;\" bgcolor=\"darkgray\"></td><td style=\"width:24px;height:24px;text-align:center;\" bgcolor=\"white\"></td><td style=\"width:24px;height:24px;text-align:center;\" bgcolor=\"darkgray\"></td><td style=\"width:24px;height:24px;text-align:center;\" bgcolor=\"white\"></td><td style=\"width:24px;height:24px;text-align:center;\" bgcolor=\"darkgray\"></td><td style=\"width:24px;height:24px;text-align:center;\" bgcolor=\"white\">8</td></tr><tr><td style=\"width:24px;height:24px;text-align:center;\" bgcolor=\"white\">7</td><td style=\"width:24px;height:24px;text-align:center;\" bgcolor=\"darkgray\"></td><td style=\"width:24px;height:24px;text-align:center;\" bgcolor=\"white\"></td><td style=\"width:24px;height:24px;text-align:center;\" bgcolor=\"darkgray\"></td><td style=\"width:24px;height:24px;text-align:center;\" bgcolor=\"white\"></td><td style=\"width:24px;height:24px;text-align:center;\" bgcolor=\"darkgray\"><span style=\"font-size:24px\">♛</span></td><td style=\"width:24px;height:24px;text-align:center;\" bgcolor=\"white\"></td><td style=\"width:24px;height:24px;text-align:center;\" bgcolor=\"darkgray\"></td><td style=\"width:24px;height:24px;text-align:center;\" bgcolor=\"white\"></td><td style=\"width:24px;height:24px;text-align:center;\" bgcolor=\"white\">7</td></tr><tr><td style=\"width:24px;height:24px;text-align:center;\" bgcolor=\"white\">6</td><td style=\"width:24px;height:24px;text-align:center;\" bgcolor=\"white\"></td><td style=\"width:24px;height:24px;text-align:center;\" bgcolor=\"darkgray\"></td><td style=\"width:24px;height:24px;text-align:center;\" bgcolor=\"white\"></td><td style=\"width:24px;height:24px;text-align:center;\" bgcolor=\"darkgray\"></td><td style=\"width:24px;height:24px;text-align:center;\" bgcolor=\"white\"></td><td style=\"width:24px;height:24px;text-align:center;\" bgcolor=\"darkgray\"></td><td style=\"width:24px;height:24px;text-align:center;\" bgcolor=\"white\"></td><td style=\"width:24px;height:24px;text-align:center;\" bgcolor=\"darkgray\"><span style=\"font-size:24px\">♛</span></td><td style=\"width:24px;height:24px;text-align:center;\" bgcolor=\"white\">6</td></tr><tr><td style=\"width:24px;height:24px;text-align:center;\" bgcolor=\"white\">5</td><td style=\"width:24px;height:24px;text-align:center;\" bgcolor=\"darkgray\"></td><td style=\"width:24px;height:24px;text-align:center;\" bgcolor=\"white\"></td><td style=\"width:24px;height:24px;text-align:center;\" bgcolor=\"darkgray\"></td><td style=\"width:24px;height:24px;text-align:center;\" bgcolor=\"white\"></td><td style=\"width:24px;height:24px;text-align:center;\" bgcolor=\"darkgray\"></td><td style=\"width:24px;height:24px;text-align:center;\" bgcolor=\"white\"><span style=\"font-size:24px\">♛</span></td><td style=\"width:24px;height:24px;text-align:center;\" bgcolor=\"darkgray\"></td><td style=\"width:24px;height:24px;text-align:center;\" bgcolor=\"white\"></td><td style=\"width:24px;height:24px;text-align:center;\" bgcolor=\"white\">5</td></tr><tr><td style=\"width:24px;height:24px;text-align:center;\" bgcolor=\"white\">4</td><td style=\"width:24px;height:24px;text-align:center;\" bgcolor=\"white\"></td><td style=\"width:24px;height:24px;text-align:center;\" bgcolor=\"darkgray\"></td><td style=\"width:24px;height:24px;text-align:center;\" bgcolor=\"white\"><span style=\"font-size:24px\">♛</span></td><td style=\"width:24px;height:24px;text-align:center;\" bgcolor=\"darkgray\"></td><td style=\"width:24px;height:24px;text-align:center;\" bgcolor=\"white\"></td><td style=\"width:24px;height:24px;text-align:center;\" bgcolor=\"darkgray\"></td><td style=\"width:24px;height:24px;text-align:center;\" bgcolor=\"white\"></td><td style=\"width:24px;height:24px;text-align:center;\" bgcolor=\"darkgray\"></td><td style=\"width:24px;height:24px;text-align:center;\" bgcolor=\"white\">4</td></tr><tr><td style=\"width:24px;height:24px;text-align:center;\" bgcolor=\"white\">3</td><td style=\"width:24px;height:24px;text-align:center;\" bgcolor=\"darkgray\"></td><td style=\"width:24px;height:24px;text-align:center;\" bgcolor=\"white\"></td><td style=\"width:24px;height:24px;text-align:center;\" bgcolor=\"darkgray\"></td><td style=\"width:24px;height:24px;text-align:center;\" bgcolor=\"white\"></td><td style=\"width:24px;height:24px;text-align:center;\" bgcolor=\"darkgray\"></td><td style=\"width:24px;height:24px;text-align:center;\" bgcolor=\"white\"></td><td style=\"width:24px;height:24px;text-align:center;\" bgcolor=\"darkgray\"><span style=\"font-size:24px\">♛</span></td><td style=\"width:24px;height:24px;text-align:center;\" bgcolor=\"white\"></td><td style=\"width:24px;height:24px;text-align:center;\" bgcolor=\"white\">3</td></tr><tr><td style=\"width:24px;height:24px;text-align:center;\" bgcolor=\"white\">2</td><td style=\"width:24px;height:24px;text-align:center;\" bgcolor=\"white\"></td><td style=\"width:24px;height:24px;text-align:center;\" bgcolor=\"darkgray\"><span style=\"font-size:24px\">♛</span></td><td style=\"width:24px;height:24px;text-align:center;\" bgcolor=\"white\"></td><td style=\"width:24px;height:24px;text-align:center;\" bgcolor=\"darkgray\"></td><td style=\"width:24px;height:24px;text-align:center;\" bgcolor=\"white\"></td><td style=\"width:24px;height:24px;text-align:center;\" bgcolor=\"darkgray\"></td><td style=\"width:24px;height:24px;text-align:center;\" bgcolor=\"white\"></td><td style=\"width:24px;height:24px;text-align:center;\" bgcolor=\"darkgray\"></td><td style=\"width:24px;height:24px;text-align:center;\" bgcolor=\"white\">2</td></tr><tr><td style=\"width:24px;height:24px;text-align:center;\" bgcolor=\"white\">1</td><td style=\"width:24px;height:24px;text-align:center;\" bgcolor=\"darkgray\"></td><td style=\"width:24px;height:24px;text-align:center;\" bgcolor=\"white\"></td><td style=\"width:24px;height:24px;text-align:center;\" bgcolor=\"darkgray\"></td><td style=\"width:24px;height:24px;text-align:center;\" bgcolor=\"white\"><span style=\"font-size:24px\">♛</span></td><td style=\"width:24px;height:24px;text-align:center;\" bgcolor=\"darkgray\"></td><td style=\"width:24px;height:24px;text-align:center;\" bgcolor=\"white\"></td><td style=\"width:24px;height:24px;text-align:center;\" bgcolor=\"darkgray\"></td><td style=\"width:24px;height:24px;text-align:center;\" bgcolor=\"white\"></td><td style=\"width:24px;height:24px;text-align:center;\" bgcolor=\"white\">1</td></tr><td style=\"width:24px;height:24px;text-align:center;\" bgcolor=\"white\"> </td><td style=\"width:24px;height:24px;text-align:center;\" bgcolor=\"white\">a</td><td style=\"width:24px;height:24px;text-align:center;\" bgcolor=\"white\">b</td><td style=\"width:24px;height:24px;text-align:center;\" bgcolor=\"white\">c</td><td style=\"width:24px;height:24px;text-align:center;\" bgcolor=\"white\">d</td><td style=\"width:24px;height:24px;text-align:center;\" bgcolor=\"white\">e</td><td style=\"width:24px;height:24px;text-align:center;\" bgcolor=\"white\">f</td><td style=\"width:24px;height:24px;text-align:center;\" bgcolor=\"white\">g</td><td style=\"width:24px;height:24px;text-align:center;\" bgcolor=\"white\">h</td><td style=\"width:24px;height:24px;text-align:center;\" bgcolor=\"white\"> </td></table>"
      ],
      "text/plain": [
       "<IPython.core.display.HTML object>"
      ]
     },
     "execution_count": 24,
     "metadata": {},
     "output_type": "execute_result"
    }
   ],
   "source": [
    "def check_place(rows, row, column):\n",
    "    \"\"\" Проверяет, если board[column][row] под атакой других ферзей \"\"\"\n",
    "    for i in range(row):\n",
    "        if rows[i] == column or \\\n",
    "            rows[i] - i == column - row or \\\n",
    "            rows[i] + i == column + row:\n",
    "            return False\n",
    "    return True\n",
    "\n",
    "total_shown = 0\n",
    "def put_queen(rows=[0]*8, row=0):\n",
    "    if row == 8:\n",
    "        arr = [[0] * 8 for i in range(8)]\n",
    "        for row, column in enumerate(rows):\n",
    "            arr[row][column] = 1\n",
    "        return chessboard(arr)\n",
    "    else:\n",
    "        for column in range(8):\n",
    "            if check_place(rows, row, column):\n",
    "                rows[row] = column\n",
    "                board = put_queen(rows, row + 1)\n",
    "                if board: return board\n",
    "    \n",
    "put_queen()"
   ]
  },
  {
   "cell_type": "code",
   "execution_count": null,
   "metadata": {},
   "outputs": [],
   "source": []
  }
 ],
 "metadata": {
  "kernelspec": {
   "display_name": "Python 3",
   "language": "python",
   "name": "python3"
  },
  "language_info": {
   "codemirror_mode": {
    "name": "ipython",
    "version": 3
   },
   "file_extension": ".py",
   "mimetype": "text/x-python",
   "name": "python",
   "nbconvert_exporter": "python",
   "pygments_lexer": "ipython3",
   "version": "3.8.5"
  }
 },
 "nbformat": 4,
 "nbformat_minor": 4
}
